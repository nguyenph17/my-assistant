{
 "cells": [
  {
   "cell_type": "code",
   "execution_count": 1,
   "metadata": {},
   "outputs": [],
   "source": [
    "# compute Karl Pearson's correlation coefficient\n",
    "# Physics Scores  15  12  8   8   7   7   7   6   5   3\n",
    "# History Scores  10  25  17  11  13  17  20  13  9   15\n",
    "\n",
    "import math\n",
    "\n",
    "def mean(x):\n",
    "    return sum(x) / len(x)\n",
    "\n",
    "# calculate standard deviation\n",
    "def std_dev(x):\n",
    "    m = mean(x)\n",
    "    return math.sqrt(sum((xi - m) ** 2 for xi in x) / len(x))\n",
    "\n",
    "# calculate corrvariance\n",
    "def covariance(x, y):\n",
    "    mx = mean(x)\n",
    "    my = mean(y)\n",
    "    return sum((xi - mx) * (yi - my) for xi, yi in zip(x, y)) / len(x)\n",
    "\n",
    "def correlation(x, y):\n",
    "    corr = covariance(x, y) / (std_dev(x) * std_dev(y))\n",
    "    print('%.2f' % corr)\n"
   ]
  },
  {
   "cell_type": "code",
   "execution_count": 2,
   "metadata": {},
   "outputs": [
    {
     "name": "stdout",
     "output_type": "stream",
     "text": [
      "0.14\n"
     ]
    }
   ],
   "source": [
    "x = [15, 12, 8, 8, 7, 7, 7, 6, 5, 3]\n",
    "y = [10, 25, 17, 11, 13, 17, 20, 13, 9, 15]\n",
    "\n",
    "if is\n",
    "\n",
    "correlation(x, y)"
   ]
  },
  {
   "cell_type": "code",
   "execution_count": 3,
   "metadata": {},
   "outputs": [
    {
     "name": "stdout",
     "output_type": "stream",
     "text": [
      "0.14499815458068518\n"
     ]
    }
   ],
   "source": [
    "import numpy as np\n",
    "\n",
    "physics_scores = np.array([15, 12, 8, 8, 7, 7, 7, 6, 5, 3]) \n",
    "history_scores = np.array([10, 25, 17, 11, 13, 17, 20, 13, 9, 15])\n",
    "print(np.corrcoef(physics_scores, history_scores)[0, 1])"
   ]
  },
  {
   "cell_type": "code",
   "execution_count": null,
   "metadata": {},
   "outputs": [],
   "source": []
  }
 ],
 "metadata": {
  "kernelspec": {
   "display_name": "pipeline",
   "language": "python",
   "name": "python3"
  },
  "language_info": {
   "codemirror_mode": {
    "name": "ipython",
    "version": 3
   },
   "file_extension": ".py",
   "mimetype": "text/x-python",
   "name": "python",
   "nbconvert_exporter": "python",
   "pygments_lexer": "ipython3",
   "version": "3.11.9"
  }
 },
 "nbformat": 4,
 "nbformat_minor": 2
}

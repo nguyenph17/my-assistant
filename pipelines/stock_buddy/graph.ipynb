{
 "cells": [
  {
   "cell_type": "code",
   "execution_count": 3,
   "metadata": {},
   "outputs": [
    {
     "name": "stderr",
     "output_type": "stream",
     "text": [
      "USER_AGENT environment variable not set, consider setting it to identify your requests.\n"
     ]
    }
   ],
   "source": [
    "import os\n",
    "import sys\n",
    "\n",
    "sys.path.append(\"/mnt/c/Projects/my-assistant\")\n",
    "from pipelines.stock_buddy.utils import get_current_datetime, get_stock_code\n",
    "\n",
    "from typing import Annotated, List\n",
    "\n",
    "from langchain_community.document_loaders import WebBaseLoader\n",
    "from langchain_community.tools.tavily_search import TavilySearchResults\n",
    "from langchain_core.tools import tool\n",
    "\n",
    "from pipelines.stock_buddy.functions.finance import balance_sheet, income_statement, cash_flow, ratio "
   ]
  },
  {
   "cell_type": "markdown",
   "metadata": {},
   "source": [
    "### Helper utils"
   ]
  },
  {
   "cell_type": "code",
   "execution_count": 4,
   "metadata": {},
   "outputs": [],
   "source": [
    "from typing import List, Optional\n",
    "from langchain.output_parsers.openai_functions import JsonOutputFunctionsParser\n",
    "from langchain_core.prompts import ChatPromptTemplate, MessagesPlaceholder\n",
    "from langchain_openai import ChatOpenAI\n",
    "\n",
    "from langgraph.graph import END, StateGraph, START\n",
    "from langchain_core.messages import HumanMessage\n",
    "\n",
    "\n",
    "def agent_node(state, agent, name):\n",
    "    result = agent.invoke(state)\n",
    "    return {\"messages\": [HumanMessage(content=result[\"messages\"][-1].content, name=name)]}\n",
    "\n",
    "\n",
    "def create_team_supervisor(llm: ChatOpenAI, system_prompt, members) -> str:\n",
    "    \"\"\"An LLM-based router.\"\"\"\n",
    "    options = [\"FINISH\"] + members\n",
    "    function_def = {\n",
    "        \"name\": \"route\",\n",
    "        \"description\": \"Select the next role.\",\n",
    "        \"parameters\": {\n",
    "            \"title\": \"routeSchema\",\n",
    "            \"type\": \"object\",\n",
    "            \"properties\": {\n",
    "                \"next\": {\n",
    "                    \"title\": \"Next\",\n",
    "                    \"anyOf\": [\n",
    "                        {\"enum\": options},\n",
    "                    ],\n",
    "                },\n",
    "            },\n",
    "            \"required\": [\"next\"],\n",
    "        },\n",
    "    }\n",
    "    prompt = ChatPromptTemplate.from_messages(\n",
    "        [\n",
    "            (\"system\", system_prompt),\n",
    "            MessagesPlaceholder(variable_name=\"messages\"),\n",
    "            (\n",
    "                \"system\",\n",
    "                \"Given the conversation above, who should act next?\"\n",
    "                \" Or should we FINISH? Select one of: {options}\",\n",
    "            ),\n",
    "        ]\n",
    "    ).partial(options=str(options), team_members=\", \".join(members))\n",
    "    return (\n",
    "        prompt\n",
    "        | llm.bind_functions(functions=[function_def], function_call=\"route\")\n",
    "        | JsonOutputFunctionsParser()\n",
    "    )"
   ]
  },
  {
   "cell_type": "markdown",
   "metadata": {},
   "source": [
    "### Define Agent"
   ]
  },
  {
   "cell_type": "code",
   "execution_count": 57,
   "metadata": {},
   "outputs": [],
   "source": [
    "import functools\n",
    "import operator\n",
    "from typing import List, TypedDict\n",
    "from langchain_core.messages import BaseMessage, HumanMessage\n",
    "from langchain_openai.chat_models import ChatOpenAI\n",
    "from langgraph.prebuilt import create_react_agent\n",
    "\n",
    "# ResearchTeam graph state\n",
    "class ResearchTeamState(TypedDict):\n",
    "    # A message is added after each team member finishes\n",
    "    messages: Annotated[List[BaseMessage], operator.add]\n",
    "    # The team members are tracked so they are aware of\n",
    "    # the others' skill-sets\n",
    "    team_members: List[str]\n",
    "    # Used to route work. The supervisor calls a function\n",
    "    # that will update this every time it makes a decision\n",
    "    next: str\n",
    "\n",
    "\n",
    "llm = ChatOpenAI(model=\"gpt-4o-mini\")\n",
    "\n",
    "tavily_tool = TavilySearchResults(max_results=3)\n",
    "\n",
    "\n",
    "current_datetime_agent = create_react_agent(llm, tools=[get_current_datetime], \n",
    "                                            state_modifier=\"Your task is to provide the time context for the conversation, you don't need to answer. \\\n",
    "                                                You only use the function get_current_datetime if user mentions a relative time \\\n",
    "                                                    like 'now', 'today', 'yesterday', 'tomorrow', 'etc'. \\\n",
    "                                                        Your answer must follow the format: 'The current date and time is current_date_time'.\")\n",
    "current_datetime_node = functools.partial(agent_node, agent=current_datetime_agent, name=\"CurrentDateTime\")\n",
    "\n",
    "check_stock_code_agent = create_react_agent(llm, tools=[tavily_tool], \n",
    "                                            state_modifier=\"Your task is to provide the code of to the context for the conversation if there is only company name and no stock code in the conversation,  \\\n",
    "                                                        Your answer must follow the format: 'The stock code of XXXXXXX is YYY'.\")\n",
    "check_stock_code_node = functools.partial(agent_node, agent=check_stock_code_agent, name=\"GetStockCode\")\n",
    "\n",
    "supervisor_agent = create_team_supervisor(\n",
    "    llm,\n",
    "    \"You are a supervisor tasked with managing a conversation between the\"\n",
    "    \" following workers:  CurrentDateTime, GetStockCode. Given the following user request,\"\n",
    "    \" respond with the worker to act next. Each worker will perform a\"\n",
    "    \" task and respond with their results and status. When finished,\"\n",
    "    \" respond with FINISH.\"\n",
    "    \"If there is already a stock code in the conversation, the GetStockCode worker should not be called (The stock code normally is a uppercase string with 3 characters).\",\n",
    "    [\"CurrentDateTime\", \"GetStockCode\"],\n",
    ")"
   ]
  },
  {
   "cell_type": "code",
   "execution_count": 58,
   "metadata": {},
   "outputs": [],
   "source": [
    "preprocess_graph = StateGraph(ResearchTeamState)\n",
    "preprocess_graph.add_node(\"CurrentDateTime\", current_datetime_node)\n",
    "preprocess_graph.add_node(\"GetStockCode\", check_stock_code_node)\n",
    "preprocess_graph.add_node(\"supervisor\", supervisor_agent)\n",
    "\n",
    "# Define the control flow\n",
    "preprocess_graph.add_edge(\"CurrentDateTime\", \"supervisor\")\n",
    "preprocess_graph.add_edge(\"GetStockCode\", \"supervisor\")\n",
    "preprocess_graph.add_conditional_edges(\n",
    "    \"supervisor\",\n",
    "    lambda x: x[\"next\"],\n",
    "    {\"CurrentDateTime\": \"CurrentDateTime\", \"GetStockCode\": \"GetStockCode\", \"FINISH\": END},\n",
    ")\n",
    "\n",
    "\n",
    "preprocess_graph.add_edge(START, \"supervisor\")\n",
    "chain = preprocess_graph.compile()\n",
    "\n",
    "\n",
    "# The following functions interoperate between the top level graph state\n",
    "# and the state of the research sub-graph\n",
    "# this makes it so that the states of each graph don't get intermixed\n",
    "def enter_chain(message: str):\n",
    "    results = {\n",
    "        \"messages\": [HumanMessage(content=message)],\n",
    "    }\n",
    "    return results\n",
    "\n",
    "\n",
    "preprocess_chain = enter_chain | chain"
   ]
  },
  {
   "cell_type": "code",
   "execution_count": 38,
   "metadata": {},
   "outputs": [
    {
     "data": {
      "text/plain": [
       "{'messages': [HumanMessage(content='Hôm nay là ngày mấy?', id='09fa44d6-e235-4c04-9f7c-d125caa9dda1'),\n",
       "  HumanMessage(content='The current date and time is 2024-09-19 23:45:23.', name='CurrentDateTime')],\n",
       " 'next': 'FINISH'}"
      ]
     },
     "execution_count": 38,
     "metadata": {},
     "output_type": "execute_result"
    }
   ],
   "source": [
    "preprocess_chain.invoke(\"Hôm nay là ngày mấy?\")"
   ]
  },
  {
   "cell_type": "code",
   "execution_count": 59,
   "metadata": {},
   "outputs": [
    {
     "data": {
      "text/plain": [
       "{'messages': [HumanMessage(content='Giá cổ phiếu TCB hôm nay như thế nào?', id='64eb3811-b3b6-405c-93cf-60c26baf8b41'),\n",
       "  HumanMessage(content='The stock code of Vietnam Technological & Commercial JS Bank is TCB.', name='GetStockCode', id='95a6fe40-37e6-447f-807f-3060754b98b3'),\n",
       "  HumanMessage(content='The current date and time is 2024-09-19 23:54:00.', name='CurrentDateTime')],\n",
       " 'next': 'FINISH'}"
      ]
     },
     "execution_count": 59,
     "metadata": {},
     "output_type": "execute_result"
    }
   ],
   "source": [
    "preprocess_chain.invoke(\"Giá cổ phiếu TCB hôm nay như thế nào?\")"
   ]
  },
  {
   "cell_type": "code",
   "execution_count": 10,
   "metadata": {},
   "outputs": [
    {
     "data": {
      "image/jpeg": "[encoded data removed]",
      "text/plain": [
       "<IPython.core.display.Image object>"
      ]
     },
     "metadata": {},
     "output_type": "display_data"
    }
   ],
   "source": [
    "from IPython.display import Image, display\n",
    "\n",
    "display(Image(chain.get_graph(xray=True).draw_mermaid_png()))"
   ]
  }
 ],
 "metadata": {
  "kernelspec": {
   "display_name": "pipeline",
   "language": "python",
   "name": "python3"
  },
  "language_info": {
   "codemirror_mode": {
    "name": "ipython",
    "version": 3
   },
   "file_extension": ".py",
   "mimetype": "text/x-python",
   "name": "python",
   "nbconvert_exporter": "python",
   "pygments_lexer": "ipython3",
   "version": "3.11.9"
  }
 },
 "nbformat": 4,
 "nbformat_minor": 2
}

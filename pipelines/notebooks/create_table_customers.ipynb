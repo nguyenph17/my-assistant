{
 "cells": [
  {
   "cell_type": "markdown",
   "metadata": {},
   "source": [
    "# Create and import customer data to Postgresql"
   ]
  },
  {
   "cell_type": "code",
   "execution_count": 12,
   "metadata": {},
   "outputs": [],
   "source": [
    "import pandas as pd\n",
    "import numpy as np"
   ]
  },
  {
   "cell_type": "markdown",
   "metadata": {},
   "source": [
    "### Load data from CSV"
   ]
  },
  {
   "cell_type": "code",
   "execution_count": 13,
   "metadata": {},
   "outputs": [],
   "source": [
    "# Read the CSV file\n",
    "df = pd.read_csv('/mnt/c/Projects/pipelines/data/customer.csv',\n",
    "                 dtype={\"wedding_date_07\": str,\n",
    "                        \"customer_id\": 'Int64',\n",
    "                        \"customer_code\": str,\n",
    "                        \"group_id\": 'Int64',\n",
    "                        \"group_name\": str,\n",
    "                        \"level_id\": 'Int64',\n",
    "                        \"level_name\": str,\n",
    "                        \"type_id\": 'Int64',\n",
    "                        \"type_name\": str,\n",
    "                        \"email\": str,\n",
    "                        \"full_name\": str,\n",
    "                        \"gender\": str,\n",
    "                        \"phone\": str,\n",
    "                        \"status\": str,\n",
    "                        \"country\": str,\n",
    "                        \"city\": str,\n",
    "                        \"district\": str,\n",
    "                        \"ward\": str,\n",
    "                        \"full_address\": str,\n",
    "                        \"eligible_for_contact\": bool},\n",
    "                        parse_dates=[\"created_date_07\", \"birthday_date_07\"])\n"
   ]
  },
  {
   "cell_type": "code",
   "execution_count": 14,
   "metadata": {},
   "outputs": [],
   "source": [
    "df['birthday_date_07'] = pd.to_datetime(df['birthday_date_07'], errors=\"coerce\").fillna(pd.to_datetime('1900-01-01'))"
   ]
  },
  {
   "cell_type": "markdown",
   "metadata": {},
   "source": [
    "#### birth_day"
   ]
  },
  {
   "cell_type": "markdown",
   "metadata": {},
   "source": [
    "#### group_id\n",
    "- impute missing values with 0 - \"No Group\"\n",
    "- convert the column to integer"
   ]
  },
  {
   "cell_type": "code",
   "execution_count": 15,
   "metadata": {},
   "outputs": [],
   "source": [
    "# group_id, impute missing values with 0 - No Group, convert the column to integer\n",
    "df['group_id'] = df['group_id'].fillna(0).astype(int)"
   ]
  },
  {
   "cell_type": "code",
   "execution_count": 16,
   "metadata": {},
   "outputs": [],
   "source": [
    "# group_name, impute missing values with 0 - No Group, convert the column to integer\n",
    "df['group_name'] = df['group_name'].fillna(\"No Group\")"
   ]
  },
  {
   "cell_type": "markdown",
   "metadata": {},
   "source": [
    "#### level_id"
   ]
  },
  {
   "cell_type": "code",
   "execution_count": 17,
   "metadata": {},
   "outputs": [],
   "source": [
    "# group_id, impute missing values with 0 - No Level, convert the column to integer\n",
    "df['level_id'] = df['level_id'].fillna(0).astype(int)"
   ]
  },
  {
   "cell_type": "code",
   "execution_count": 18,
   "metadata": {},
   "outputs": [],
   "source": [
    "# group_name, impute missing values with 0 - No Level, convert the column to integer\n",
    "df['level_name'] = df['level_name'].fillna(\"Khách hàng chưa có hạng thành viên\")"
   ]
  },
  {
   "cell_type": "markdown",
   "metadata": {},
   "source": [
    "#### type_id"
   ]
  },
  {
   "cell_type": "code",
   "execution_count": 19,
   "metadata": {},
   "outputs": [],
   "source": [
    "# group_id, impute missing values with 0 - KHÁCH LẺ, convert the column to integer\n",
    "df['type_id'] = df['type_id'].fillna(0).astype(int)"
   ]
  },
  {
   "cell_type": "code",
   "execution_count": 20,
   "metadata": {},
   "outputs": [],
   "source": [
    "# group_name, impute missing values with 0 - KHÁCH LẺ, convert the column to integer\n",
    "df['type_name'] = df['type_name'].fillna(\"KHÁCH LẺ\")"
   ]
  },
  {
   "cell_type": "markdown",
   "metadata": {},
   "source": [
    "#### email"
   ]
  },
  {
   "cell_type": "code",
   "execution_count": 21,
   "metadata": {},
   "outputs": [],
   "source": [
    "df['email'] = df['email'].fillna(\"\")"
   ]
  },
  {
   "cell_type": "markdown",
   "metadata": {},
   "source": [
    "#### gender"
   ]
  },
  {
   "cell_type": "code",
   "execution_count": 22,
   "metadata": {},
   "outputs": [],
   "source": [
    "df['email'] = df['email'].fillna(\"\")"
   ]
  },
  {
   "cell_type": "code",
   "execution_count": 23,
   "metadata": {},
   "outputs": [],
   "source": [
    "df['country'] = df['country'].fillna(\"UNKNOWN\")\n",
    "df['city'] = df['city'].fillna(\"UNKNOWN\")\n",
    "df['district'] = df['district'].fillna(\"UNKNOWN\")\n",
    "df['full_address'] = df['full_address'].fillna(\"UNKNOWN\")\n",
    "df['ward'] = df['ward'].fillna(\"UNKNOWN\")\n",
    "df['wedding_date_07'] = df['wedding_date_07'].fillna(\"\")\n",
    "df['gender'] = df['gender'].fillna(\"\")"
   ]
  },
  {
   "cell_type": "code",
   "execution_count": 24,
   "metadata": {},
   "outputs": [
    {
     "data": {
      "text/plain": [
       "customer_id             0\n",
       "customer_code           0\n",
       "created_date_07         0\n",
       "birthday_date_07        0\n",
       "group_id                0\n",
       "group_name              0\n",
       "level_id                0\n",
       "level_name              0\n",
       "type_id                 0\n",
       "type_name               0\n",
       "email                   0\n",
       "full_name               0\n",
       "gender                  0\n",
       "phone                   0\n",
       "status                  0\n",
       "wedding_date_07         0\n",
       "country                 0\n",
       "city                    0\n",
       "district                0\n",
       "ward                    0\n",
       "full_address            0\n",
       "eligible_for_contact    0\n",
       "dtype: int64"
      ]
     },
     "execution_count": 24,
     "metadata": {},
     "output_type": "execute_result"
    }
   ],
   "source": [
    "# check missing values\n",
    "missing = df.isnull().sum()\n",
    "missing"
   ]
  },
  {
   "cell_type": "code",
   "execution_count": 25,
   "metadata": {},
   "outputs": [
    {
     "data": {
      "text/plain": [
       "customer_id                      Int64\n",
       "customer_code                   object\n",
       "created_date_07         datetime64[ns]\n",
       "birthday_date_07        datetime64[ns]\n",
       "group_id                         int64\n",
       "group_name                      object\n",
       "level_id                         int64\n",
       "level_name                      object\n",
       "type_id                          int64\n",
       "type_name                       object\n",
       "email                           object\n",
       "full_name                       object\n",
       "gender                          object\n",
       "phone                           object\n",
       "status                          object\n",
       "wedding_date_07                 object\n",
       "country                         object\n",
       "city                            object\n",
       "district                        object\n",
       "ward                            object\n",
       "full_address                    object\n",
       "eligible_for_contact              bool\n",
       "dtype: object"
      ]
     },
     "execution_count": 25,
     "metadata": {},
     "output_type": "execute_result"
    }
   ],
   "source": [
    "df.dtypes"
   ]
  },
  {
   "cell_type": "code",
   "execution_count": 26,
   "metadata": {},
   "outputs": [],
   "source": [
    "import pandas as pd\n",
    "from sqlalchemy import create_engine, Column, Integer, String, Date, Boolean, text, DateTime, ForeignKey, Float, inspect\n",
    "from sqlalchemy.orm import sessionmaker, declarative_base, relationship\n",
    "import os\n",
    "\n",
    "\n",
    "from dotenv import load_dotenv, find_dotenv\n",
    "\n",
    "load_dotenv(find_dotenv(), override=True)\n",
    "\n",
    "# Create a connection to the PostgreSQL database\n",
    "engine = create_engine(f\"postgresql+psycopg2://{os.environ['PG_USER']}:{os.environ['PG_PASSWORD']}@{os.environ['PG_HOST']}:{os.environ['PG_PORT']}/{os.environ['PG_DB']}\")\n",
    "\n",
    "# Create a base class for declarative class definitions\n",
    "Base = declarative_base()\n"
   ]
  },
  {
   "cell_type": "code",
   "execution_count": 27,
   "metadata": {},
   "outputs": [],
   "source": [
    "# Define the table structure\n",
    "class Customer(Base):\n",
    "    __tablename__ = 'customers'\n",
    "\n",
    "    # id = Column(Integer, primary_key=True)\n",
    "    customer_id = Column(Integer, primary_key=True)\n",
    "    customer_code = Column(String)\n",
    "    created_date_07 = Column(Date)\n",
    "    birthday_date_07 = Column(Date, nullable=True)\n",
    "    group_id = Column(String, nullable=True)\n",
    "    group_name = Column(String, nullable=True)\n",
    "    level_id = Column(String, nullable=True)\n",
    "    level_name = Column(String, nullable=True)\n",
    "    type_id = Column(String, nullable=True)\n",
    "    type_name = Column(String, nullable=True)\n",
    "    email = Column(String, nullable=True)\n",
    "    full_name = Column(String, nullable=True)\n",
    "    gender = Column(String, nullable=True)\n",
    "    phone = Column(String, nullable=True)\n",
    "    status = Column(String, nullable=True)\n",
    "    country = Column(String, nullable=True)\n",
    "    city = Column(String, nullable=True)\n",
    "    district = Column(String, nullable=True)\n",
    "    ward = Column(String, nullable=True)\n",
    "    full_address = Column(String, nullable=True)\n",
    "    eligible_for_contact = Column(Boolean, nullable=True)\n"
   ]
  },
  {
   "cell_type": "code",
   "execution_count": 28,
   "metadata": {},
   "outputs": [],
   "source": [
    "# Create the table in the database\n",
    "Base.metadata.create_all(engine)\n",
    "\n",
    "# Create a session\n",
    "Session = sessionmaker(bind=engine)\n",
    "session = Session()\n"
   ]
  },
  {
   "cell_type": "code",
   "execution_count": 29,
   "metadata": {},
   "outputs": [],
   "source": [
    "# # drop table customers\n",
    "# session.execute(text('DROP TABLE IF EXISTS customers'))\n",
    "# session.commit()"
   ]
  },
  {
   "cell_type": "code",
   "execution_count": 30,
   "metadata": {},
   "outputs": [
    {
     "name": "stdout",
     "output_type": "stream",
     "text": [
      "Data import completed successfully!\n"
     ]
    }
   ],
   "source": [
    "\n",
    "# Insert data into the database\n",
    "for _, row in df.iterrows():\n",
    "    try:\n",
    "        customer = Customer(\n",
    "            customer_id=row['customer_id'],\n",
    "            customer_code=row['customer_code'],\n",
    "            created_date_07=row['created_date_07'],\n",
    "            birthday_date_07=row['birthday_date_07'],\n",
    "            group_id=row['group_id'],\n",
    "            group_name=row['group_name'],\n",
    "            level_id=row['level_id'],\n",
    "            level_name=row['level_name'],\n",
    "            type_id=row['type_id'],\n",
    "            type_name=row['type_name'],\n",
    "            email=row['email'],\n",
    "            full_name=row['full_name'],\n",
    "            gender=row['gender'],\n",
    "            phone=row['phone'],\n",
    "            status=row['status'],\n",
    "            country=row['country'],\n",
    "            city=row['city'],\n",
    "            district=row['district'],\n",
    "            ward=row['ward'],\n",
    "            full_address=row['full_address'],\n",
    "            eligible_for_contact=row['eligible_for_contact']\n",
    "        )\n",
    "        session.add(customer)\n",
    "    except Exception as e:\n",
    "        print(f\"Error inserting row: {row}, customer: {customer}\")\n",
    "        print(e)\n",
    "\n",
    "# Commit the changes and close the session\n",
    "session.commit()\n",
    "session.close()\n",
    "\n",
    "print(\"Data import completed successfully!\")"
   ]
  }
 ],
 "metadata": {
  "kernelspec": {
   "display_name": "pipeline",
   "language": "python",
   "name": "python3"
  },
  "language_info": {
   "codemirror_mode": {
    "name": "ipython",
    "version": 3
   },
   "file_extension": ".py",
   "mimetype": "text/x-python",
   "name": "python",
   "nbconvert_exporter": "python",
   "pygments_lexer": "ipython3",
   "version": "3.11.9"
  }
 },
 "nbformat": 4,
 "nbformat_minor": 2
}

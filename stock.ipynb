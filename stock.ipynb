{
 "cells": [
  {
   "cell_type": "code",
   "execution_count": 6,
   "metadata": {},
   "outputs": [],
   "source": [
    "from vnstock3 import Vnstock"
   ]
  },
  {
   "cell_type": "markdown",
   "metadata": {},
   "source": [
    "### Quote"
   ]
  },
  {
   "cell_type": "code",
   "execution_count": 2,
   "metadata": {},
   "outputs": [
    {
     "name": "stderr",
     "output_type": "stream",
     "text": [
      "2024-09-08 22:36:40,519 - vnstock3.common.data.data_explorer - WARNING - Thông tin niêm yết & giao dịch sẽ được truy xuất từ TCBS\n"
     ]
    }
   ],
   "source": [
    "from vnstock3 import Vnstock\n",
    "stock = Vnstock().stock(symbol='ACB', source='VCI')"
   ]
  },
  {
   "cell_type": "code",
   "execution_count": 3,
   "metadata": {},
   "outputs": [
    {
     "data": {
      "text/plain": [
       "match_type\n",
       "Buy        1003\n",
       "Sell        840\n",
       "ATO/ATC       2\n",
       "Name: count, dtype: int64"
      ]
     },
     "execution_count": 3,
     "metadata": {},
     "output_type": "execute_result"
    }
   ],
   "source": [
    "stock.quote.intraday(page_size=10000, last_time='2024-09-07 14:29:52')['match_type'].value_counts()"
   ]
  },
  {
   "cell_type": "code",
   "execution_count": 4,
   "metadata": {},
   "outputs": [],
   "source": [
    "df = stock.quote.intraday(page_size=10000, last_time='2024-09-07 14:29:52')"
   ]
  },
  {
   "cell_type": "code",
   "execution_count": 49,
   "metadata": {},
   "outputs": [],
   "source": [
    "df = stock.quote.history(start='2024-01-01', end='2024-09-06', interval='1D')"
   ]
  },
  {
   "cell_type": "code",
   "execution_count": 50,
   "metadata": {},
   "outputs": [
    {
     "data": {
      "text/html": [
       "<div>\n",
       "<style scoped>\n",
       "    .dataframe tbody tr th:only-of-type {\n",
       "        vertical-align: middle;\n",
       "    }\n",
       "\n",
       "    .dataframe tbody tr th {\n",
       "        vertical-align: top;\n",
       "    }\n",
       "\n",
       "    .dataframe thead th {\n",
       "        text-align: right;\n",
       "    }\n",
       "</style>\n",
       "<table border=\"1\" class=\"dataframe\">\n",
       "  <thead>\n",
       "    <tr style=\"text-align: right;\">\n",
       "      <th></th>\n",
       "      <th>time</th>\n",
       "      <th>open</th>\n",
       "      <th>high</th>\n",
       "      <th>low</th>\n",
       "      <th>close</th>\n",
       "      <th>volume</th>\n",
       "    </tr>\n",
       "  </thead>\n",
       "  <tbody>\n",
       "    <tr>\n",
       "      <th>0</th>\n",
       "      <td>2024-01-02</td>\n",
       "      <td>20.12</td>\n",
       "      <td>20.79</td>\n",
       "      <td>20.12</td>\n",
       "      <td>20.54</td>\n",
       "      <td>13896933</td>\n",
       "    </tr>\n",
       "    <tr>\n",
       "      <th>1</th>\n",
       "      <td>2024-01-03</td>\n",
       "      <td>20.58</td>\n",
       "      <td>21.00</td>\n",
       "      <td>20.37</td>\n",
       "      <td>21.00</td>\n",
       "      <td>9817807</td>\n",
       "    </tr>\n",
       "    <tr>\n",
       "      <th>2</th>\n",
       "      <td>2024-01-04</td>\n",
       "      <td>21.17</td>\n",
       "      <td>21.55</td>\n",
       "      <td>21.08</td>\n",
       "      <td>21.25</td>\n",
       "      <td>23605373</td>\n",
       "    </tr>\n",
       "    <tr>\n",
       "      <th>3</th>\n",
       "      <td>2024-01-05</td>\n",
       "      <td>21.25</td>\n",
       "      <td>21.38</td>\n",
       "      <td>21.04</td>\n",
       "      <td>21.38</td>\n",
       "      <td>9282598</td>\n",
       "    </tr>\n",
       "    <tr>\n",
       "      <th>4</th>\n",
       "      <td>2024-01-08</td>\n",
       "      <td>21.59</td>\n",
       "      <td>21.63</td>\n",
       "      <td>21.17</td>\n",
       "      <td>21.29</td>\n",
       "      <td>12398885</td>\n",
       "    </tr>\n",
       "    <tr>\n",
       "      <th>...</th>\n",
       "      <td>...</td>\n",
       "      <td>...</td>\n",
       "      <td>...</td>\n",
       "      <td>...</td>\n",
       "      <td>...</td>\n",
       "      <td>...</td>\n",
       "    </tr>\n",
       "    <tr>\n",
       "      <th>163</th>\n",
       "      <td>2024-08-29</td>\n",
       "      <td>24.55</td>\n",
       "      <td>24.90</td>\n",
       "      <td>24.55</td>\n",
       "      <td>24.65</td>\n",
       "      <td>8588000</td>\n",
       "    </tr>\n",
       "    <tr>\n",
       "      <th>164</th>\n",
       "      <td>2024-08-30</td>\n",
       "      <td>24.65</td>\n",
       "      <td>24.80</td>\n",
       "      <td>24.65</td>\n",
       "      <td>24.80</td>\n",
       "      <td>4483800</td>\n",
       "    </tr>\n",
       "    <tr>\n",
       "      <th>165</th>\n",
       "      <td>2024-09-04</td>\n",
       "      <td>24.50</td>\n",
       "      <td>24.70</td>\n",
       "      <td>24.45</td>\n",
       "      <td>24.65</td>\n",
       "      <td>5632900</td>\n",
       "    </tr>\n",
       "    <tr>\n",
       "      <th>166</th>\n",
       "      <td>2024-09-05</td>\n",
       "      <td>24.65</td>\n",
       "      <td>24.70</td>\n",
       "      <td>24.45</td>\n",
       "      <td>24.50</td>\n",
       "      <td>3534700</td>\n",
       "    </tr>\n",
       "    <tr>\n",
       "      <th>167</th>\n",
       "      <td>2024-09-06</td>\n",
       "      <td>24.50</td>\n",
       "      <td>24.60</td>\n",
       "      <td>24.45</td>\n",
       "      <td>24.60</td>\n",
       "      <td>5003500</td>\n",
       "    </tr>\n",
       "  </tbody>\n",
       "</table>\n",
       "<p>168 rows × 6 columns</p>\n",
       "</div>"
      ],
      "text/plain": [
       "          time   open   high    low  close    volume\n",
       "0   2024-01-02  20.12  20.79  20.12  20.54  13896933\n",
       "1   2024-01-03  20.58  21.00  20.37  21.00   9817807\n",
       "2   2024-01-04  21.17  21.55  21.08  21.25  23605373\n",
       "3   2024-01-05  21.25  21.38  21.04  21.38   9282598\n",
       "4   2024-01-08  21.59  21.63  21.17  21.29  12398885\n",
       "..         ...    ...    ...    ...    ...       ...\n",
       "163 2024-08-29  24.55  24.90  24.55  24.65   8588000\n",
       "164 2024-08-30  24.65  24.80  24.65  24.80   4483800\n",
       "165 2024-09-04  24.50  24.70  24.45  24.65   5632900\n",
       "166 2024-09-05  24.65  24.70  24.45  24.50   3534700\n",
       "167 2024-09-06  24.50  24.60  24.45  24.60   5003500\n",
       "\n",
       "[168 rows x 6 columns]"
      ]
     },
     "execution_count": 50,
     "metadata": {},
     "output_type": "execute_result"
    }
   ],
   "source": [
    "df"
   ]
  },
  {
   "cell_type": "code",
   "execution_count": 15,
   "metadata": {},
   "outputs": [],
   "source": [
    "from langchain_experimental.agents.agent_toolkits import create_pandas_dataframe_agent\n",
    "from langchain_openai import ChatOpenAI\n",
    "import pandas as pd\n",
    "from langchain_openai import OpenAI\n",
    "from langchain.agents.agent_types import AgentType\n",
    "from langchain_community.callbacks import get_openai_callback"
   ]
  },
  {
   "cell_type": "code",
   "execution_count": 58,
   "metadata": {},
   "outputs": [
    {
     "name": "stdout",
     "output_type": "stream",
     "text": [
      "\n",
      "\n",
      "\u001b[1m> Entering new AgentExecutor chain...\u001b[0m\n",
      "\u001b[32;1m\u001b[1;3m\n",
      "Invoking: `python_repl_ast` with `{'query': \"import pandas as pd\\nimport matplotlib.pyplot as plt\\n\\n# Giả sử df đã được định nghĩa như trong ví dụ\\n# Chuyển đổi cột 'time' thành kiểu datetime\\ndf['time'] = pd.to_datetime(df['time'])\\n\\n# Vẽ biểu đồ giá close\\nplt.figure(figsize=(12, 6))\\nplt.plot(df['time'], df['close'], marker='o', linestyle='-', color='b')\\nplt.title('Biểu đồ giá đóng cửa (Close) theo thời gian')\\nplt.xlabel('Thời gian')\\nplt.ylabel('Giá đóng cửa')\\nplt.grid()\\nplt.xticks(rotation=45)\\nplt.tight_layout()\\nplt.show()\\n\\n# Tìm giá thấp nhất và cao nhất\\nmin_close = df['close'].min()\\nmax_close = df['close'].max()\\nmin_close, max_close\"}`\n",
      "\n",
      "\n",
      "\u001b[0m"
     ]
    },
    {
     "data": {
      "image/png": "[encoded data removed]",
      "text/plain": [
       "<Figure size 1200x600 with 1 Axes>"
      ]
     },
     "metadata": {},
     "output_type": "display_data"
    },
    {
     "name": "stdout",
     "output_type": "stream",
     "text": [
      "\u001b[36;1m\u001b[1;3m(20.54, 25.1)\u001b[0m\u001b[32;1m\u001b[1;3mBiểu đồ giá đóng cửa (Close) theo thời gian đã được vẽ. \n",
      "\n",
      "Giá thấp nhất là **20.54** và giá cao nhất là **25.1**.\u001b[0m\n",
      "\n",
      "\u001b[1m> Finished chain.\u001b[0m\n",
      "Tokens Used: 1321\n",
      "\tPrompt Tokens: 1075\n",
      "\tCompletion Tokens: 246\n",
      "Successful Requests: 2\n",
      "Total Cost (USD): $0.00030885\n"
     ]
    }
   ],
   "source": [
    "\n",
    "agent = create_pandas_dataframe_agent(\n",
    "    ChatOpenAI(temperature=0, model=\"gpt-4o-mini\"),\n",
    "    df,\n",
    "    verbose=True,\n",
    "    agent_type=AgentType.OPENAI_FUNCTIONS,\n",
    "    allow_dangerous_code=True\n",
    ")\n",
    "\n",
    "with get_openai_callback() as cb:\n",
    "    agent.agent.stream_runnable = False\n",
    "    response = agent.run(\"Hãy vẽ biểu đồ thể hiện giá close biến động trong ngày và cho tôi biết giá thấp nhất và cao nhất.\")\n",
    "    print(cb)"
   ]
  },
  {
   "cell_type": "markdown",
   "metadata": {},
   "source": [
    "### Trading"
   ]
  },
  {
   "cell_type": "code",
   "execution_count": 10,
   "metadata": {},
   "outputs": [
    {
     "data": {
      "text/html": [
       "<div>\n",
       "<style scoped>\n",
       "    .dataframe tbody tr th:only-of-type {\n",
       "        vertical-align: middle;\n",
       "    }\n",
       "\n",
       "    .dataframe tbody tr th {\n",
       "        vertical-align: top;\n",
       "    }\n",
       "\n",
       "    .dataframe thead th {\n",
       "        text-align: right;\n",
       "    }\n",
       "</style>\n",
       "<table border=\"1\" class=\"dataframe\">\n",
       "  <thead>\n",
       "    <tr style=\"text-align: right;\">\n",
       "      <th></th>\n",
       "      <th>ticker</th>\n",
       "      <th>organ_name</th>\n",
       "    </tr>\n",
       "  </thead>\n",
       "  <tbody>\n",
       "    <tr>\n",
       "      <th>0</th>\n",
       "      <td>A32</td>\n",
       "      <td>Công ty Cổ phần 32</td>\n",
       "    </tr>\n",
       "    <tr>\n",
       "      <th>1</th>\n",
       "      <td>AAA</td>\n",
       "      <td>Công ty Cổ phần Nhựa An Phát Xanh</td>\n",
       "    </tr>\n",
       "    <tr>\n",
       "      <th>2</th>\n",
       "      <td>AAM</td>\n",
       "      <td>Công ty Cổ Phần Thủy Sản MeKong</td>\n",
       "    </tr>\n",
       "    <tr>\n",
       "      <th>3</th>\n",
       "      <td>AAS</td>\n",
       "      <td>Công ty Cổ phần Chứng khoán SmartInvest</td>\n",
       "    </tr>\n",
       "    <tr>\n",
       "      <th>4</th>\n",
       "      <td>AAT</td>\n",
       "      <td>Công ty Cổ phần Tập đoàn Tiên Sơn Thanh Hóa</td>\n",
       "    </tr>\n",
       "    <tr>\n",
       "      <th>...</th>\n",
       "      <td>...</td>\n",
       "      <td>...</td>\n",
       "    </tr>\n",
       "    <tr>\n",
       "      <th>1593</th>\n",
       "      <td>XPH</td>\n",
       "      <td>Công ty Cổ phần Xà phòng Hà Nội</td>\n",
       "    </tr>\n",
       "    <tr>\n",
       "      <th>1594</th>\n",
       "      <td>YBC</td>\n",
       "      <td>Công ty Cổ phần Xi măng và Khoáng sản Yên Bái</td>\n",
       "    </tr>\n",
       "    <tr>\n",
       "      <th>1595</th>\n",
       "      <td>YBM</td>\n",
       "      <td>Công ty Cổ phần Khoáng sản Công nghiệp Yên Bái</td>\n",
       "    </tr>\n",
       "    <tr>\n",
       "      <th>1596</th>\n",
       "      <td>YEG</td>\n",
       "      <td>Công ty Cổ phần Tập đoàn Yeah1</td>\n",
       "    </tr>\n",
       "    <tr>\n",
       "      <th>1597</th>\n",
       "      <td>YTC</td>\n",
       "      <td>Công ty Cổ phần Xuất nhập khẩu Y tế Thành phố ...</td>\n",
       "    </tr>\n",
       "  </tbody>\n",
       "</table>\n",
       "<p>1598 rows × 2 columns</p>\n",
       "</div>"
      ],
      "text/plain": [
       "     ticker                                         organ_name\n",
       "0       A32                                 Công ty Cổ phần 32\n",
       "1       AAA                  Công ty Cổ phần Nhựa An Phát Xanh\n",
       "2       AAM                    Công ty Cổ Phần Thủy Sản MeKong\n",
       "3       AAS            Công ty Cổ phần Chứng khoán SmartInvest\n",
       "4       AAT        Công ty Cổ phần Tập đoàn Tiên Sơn Thanh Hóa\n",
       "...     ...                                                ...\n",
       "1593    XPH                    Công ty Cổ phần Xà phòng Hà Nội\n",
       "1594    YBC      Công ty Cổ phần Xi măng và Khoáng sản Yên Bái\n",
       "1595    YBM     Công ty Cổ phần Khoáng sản Công nghiệp Yên Bái\n",
       "1596    YEG                     Công ty Cổ phần Tập đoàn Yeah1\n",
       "1597    YTC  Công ty Cổ phần Xuất nhập khẩu Y tế Thành phố ...\n",
       "\n",
       "[1598 rows x 2 columns]"
      ]
     },
     "execution_count": 10,
     "metadata": {},
     "output_type": "execute_result"
    }
   ],
   "source": [
    "stock.listing.all_symbols()"
   ]
  },
  {
   "cell_type": "code",
   "execution_count": 12,
   "metadata": {},
   "outputs": [
    {
     "data": {
      "text/plain": [
       "0      AAA\n",
       "1      AAM\n",
       "2      AAT\n",
       "3      ABR\n",
       "4      ABS\n",
       "      ... \n",
       "411    VTB\n",
       "412    VTO\n",
       "413    VTP\n",
       "414    YBM\n",
       "415    YEG\n",
       "Name: symbol, Length: 416, dtype: object"
      ]
     },
     "execution_count": 12,
     "metadata": {},
     "output_type": "execute_result"
    }
   ],
   "source": [
    "stock.listing.symbols_by_group('HOSE')"
   ]
  },
  {
   "cell_type": "code",
   "execution_count": 32,
   "metadata": {},
   "outputs": [
    {
     "data": {
      "text/html": [
       "<div>\n",
       "<style scoped>\n",
       "    .dataframe tbody tr th:only-of-type {\n",
       "        vertical-align: middle;\n",
       "    }\n",
       "\n",
       "    .dataframe tbody tr th {\n",
       "        vertical-align: top;\n",
       "    }\n",
       "\n",
       "    .dataframe thead th {\n",
       "        text-align: right;\n",
       "    }\n",
       "</style>\n",
       "<table border=\"1\" class=\"dataframe\">\n",
       "  <thead>\n",
       "    <tr style=\"text-align: right;\">\n",
       "      <th></th>\n",
       "      <th>time</th>\n",
       "      <th>open</th>\n",
       "      <th>high</th>\n",
       "      <th>low</th>\n",
       "      <th>close</th>\n",
       "      <th>volume</th>\n",
       "    </tr>\n",
       "  </thead>\n",
       "  <tbody>\n",
       "    <tr>\n",
       "      <th>0</th>\n",
       "      <td>2024-06-03 09:15:00</td>\n",
       "      <td>24.85</td>\n",
       "      <td>24.95</td>\n",
       "      <td>24.70</td>\n",
       "      <td>24.75</td>\n",
       "      <td>392800</td>\n",
       "    </tr>\n",
       "    <tr>\n",
       "      <th>1</th>\n",
       "      <td>2024-06-03 09:30:00</td>\n",
       "      <td>24.75</td>\n",
       "      <td>24.80</td>\n",
       "      <td>24.60</td>\n",
       "      <td>24.65</td>\n",
       "      <td>1016600</td>\n",
       "    </tr>\n",
       "    <tr>\n",
       "      <th>2</th>\n",
       "      <td>2024-06-03 09:45:00</td>\n",
       "      <td>24.65</td>\n",
       "      <td>24.70</td>\n",
       "      <td>24.60</td>\n",
       "      <td>24.60</td>\n",
       "      <td>544000</td>\n",
       "    </tr>\n",
       "    <tr>\n",
       "      <th>3</th>\n",
       "      <td>2024-06-03 10:00:00</td>\n",
       "      <td>24.60</td>\n",
       "      <td>24.75</td>\n",
       "      <td>24.60</td>\n",
       "      <td>24.70</td>\n",
       "      <td>543600</td>\n",
       "    </tr>\n",
       "    <tr>\n",
       "      <th>4</th>\n",
       "      <td>2024-06-03 10:15:00</td>\n",
       "      <td>24.70</td>\n",
       "      <td>24.75</td>\n",
       "      <td>24.65</td>\n",
       "      <td>24.70</td>\n",
       "      <td>497300</td>\n",
       "    </tr>\n",
       "    <tr>\n",
       "      <th>...</th>\n",
       "      <td>...</td>\n",
       "      <td>...</td>\n",
       "      <td>...</td>\n",
       "      <td>...</td>\n",
       "      <td>...</td>\n",
       "      <td>...</td>\n",
       "    </tr>\n",
       "    <tr>\n",
       "      <th>7506</th>\n",
       "      <td>2024-08-20 13:45:00</td>\n",
       "      <td>24.10</td>\n",
       "      <td>24.25</td>\n",
       "      <td>24.10</td>\n",
       "      <td>24.25</td>\n",
       "      <td>721700</td>\n",
       "    </tr>\n",
       "    <tr>\n",
       "      <th>7507</th>\n",
       "      <td>2024-08-20 14:00:00</td>\n",
       "      <td>24.25</td>\n",
       "      <td>24.30</td>\n",
       "      <td>24.15</td>\n",
       "      <td>24.15</td>\n",
       "      <td>496700</td>\n",
       "    </tr>\n",
       "    <tr>\n",
       "      <th>7508</th>\n",
       "      <td>2024-08-20 14:15:00</td>\n",
       "      <td>24.15</td>\n",
       "      <td>24.20</td>\n",
       "      <td>24.15</td>\n",
       "      <td>24.15</td>\n",
       "      <td>634500</td>\n",
       "    </tr>\n",
       "    <tr>\n",
       "      <th>7509</th>\n",
       "      <td>2024-08-20 14:30:00</td>\n",
       "      <td>NaN</td>\n",
       "      <td>NaN</td>\n",
       "      <td>NaN</td>\n",
       "      <td>NaN</td>\n",
       "      <td>0</td>\n",
       "    </tr>\n",
       "    <tr>\n",
       "      <th>7510</th>\n",
       "      <td>2024-08-20 14:45:00</td>\n",
       "      <td>24.10</td>\n",
       "      <td>24.10</td>\n",
       "      <td>24.10</td>\n",
       "      <td>24.10</td>\n",
       "      <td>322700</td>\n",
       "    </tr>\n",
       "  </tbody>\n",
       "</table>\n",
       "<p>7511 rows × 6 columns</p>\n",
       "</div>"
      ],
      "text/plain": [
       "                    time   open   high    low  close   volume\n",
       "0    2024-06-03 09:15:00  24.85  24.95  24.70  24.75   392800\n",
       "1    2024-06-03 09:30:00  24.75  24.80  24.60  24.65  1016600\n",
       "2    2024-06-03 09:45:00  24.65  24.70  24.60  24.60   544000\n",
       "3    2024-06-03 10:00:00  24.60  24.75  24.60  24.70   543600\n",
       "4    2024-06-03 10:15:00  24.70  24.75  24.65  24.70   497300\n",
       "...                  ...    ...    ...    ...    ...      ...\n",
       "7506 2024-08-20 13:45:00  24.10  24.25  24.10  24.25   721700\n",
       "7507 2024-08-20 14:00:00  24.25  24.30  24.15  24.15   496700\n",
       "7508 2024-08-20 14:15:00  24.15  24.20  24.15  24.15   634500\n",
       "7509 2024-08-20 14:30:00    NaN    NaN    NaN    NaN        0\n",
       "7510 2024-08-20 14:45:00  24.10  24.10  24.10  24.10   322700\n",
       "\n",
       "[7511 rows x 6 columns]"
      ]
     },
     "execution_count": 32,
     "metadata": {},
     "output_type": "execute_result"
    }
   ],
   "source": [
    "df = stock.quote.history(start='2024-06-01', end='2024-08-20', interval='15m')\n",
    "df"
   ]
  },
  {
   "cell_type": "code",
   "execution_count": 17,
   "metadata": {},
   "outputs": [
    {
     "data": {
      "text/html": [
       "<div>\n",
       "<style scoped>\n",
       "    .dataframe tbody tr th:only-of-type {\n",
       "        vertical-align: middle;\n",
       "    }\n",
       "\n",
       "    .dataframe tbody tr th {\n",
       "        vertical-align: top;\n",
       "    }\n",
       "\n",
       "    .dataframe thead th {\n",
       "        text-align: right;\n",
       "    }\n",
       "</style>\n",
       "<table border=\"1\" class=\"dataframe\">\n",
       "  <thead>\n",
       "    <tr style=\"text-align: right;\">\n",
       "      <th></th>\n",
       "      <th>price</th>\n",
       "      <th>acc_volume</th>\n",
       "      <th>acc_buy_volume</th>\n",
       "      <th>acc_sell_volume</th>\n",
       "      <th>acc_undefined_volume</th>\n",
       "    </tr>\n",
       "  </thead>\n",
       "  <tbody>\n",
       "    <tr>\n",
       "      <th>0</th>\n",
       "      <td>24300</td>\n",
       "      <td>78000</td>\n",
       "      <td>78000</td>\n",
       "      <td>0</td>\n",
       "      <td>0</td>\n",
       "    </tr>\n",
       "    <tr>\n",
       "      <th>1</th>\n",
       "      <td>24250</td>\n",
       "      <td>425700</td>\n",
       "      <td>155000</td>\n",
       "      <td>270700</td>\n",
       "      <td>0</td>\n",
       "    </tr>\n",
       "    <tr>\n",
       "      <th>2</th>\n",
       "      <td>24200</td>\n",
       "      <td>426900</td>\n",
       "      <td>340000</td>\n",
       "      <td>86900</td>\n",
       "      <td>0</td>\n",
       "    </tr>\n",
       "    <tr>\n",
       "      <th>3</th>\n",
       "      <td>24150</td>\n",
       "      <td>1032200</td>\n",
       "      <td>437200</td>\n",
       "      <td>595000</td>\n",
       "      <td>0</td>\n",
       "    </tr>\n",
       "    <tr>\n",
       "      <th>4</th>\n",
       "      <td>24100</td>\n",
       "      <td>1757700</td>\n",
       "      <td>952400</td>\n",
       "      <td>482600</td>\n",
       "      <td>322700</td>\n",
       "    </tr>\n",
       "    <tr>\n",
       "      <th>5</th>\n",
       "      <td>24050</td>\n",
       "      <td>1368500</td>\n",
       "      <td>577100</td>\n",
       "      <td>758800</td>\n",
       "      <td>32600</td>\n",
       "    </tr>\n",
       "    <tr>\n",
       "      <th>6</th>\n",
       "      <td>24000</td>\n",
       "      <td>324000</td>\n",
       "      <td>21300</td>\n",
       "      <td>302700</td>\n",
       "      <td>0</td>\n",
       "    </tr>\n",
       "  </tbody>\n",
       "</table>\n",
       "</div>"
      ],
      "text/plain": [
       "   price acc_volume acc_buy_volume acc_sell_volume acc_undefined_volume\n",
       "0  24300      78000          78000               0                    0\n",
       "1  24250     425700         155000          270700                    0\n",
       "2  24200     426900         340000           86900                    0\n",
       "3  24150    1032200         437200          595000                    0\n",
       "4  24100    1757700         952400          482600               322700\n",
       "5  24050    1368500         577100          758800                32600\n",
       "6  24000     324000          21300          302700                    0"
      ]
     },
     "execution_count": 17,
     "metadata": {},
     "output_type": "execute_result"
    }
   ],
   "source": [
    "# Bước giá và khối lượng giao dịch: realtime\n",
    "stock.quote.price_depth('ACB')"
   ]
  },
  {
   "cell_type": "code",
   "execution_count": 28,
   "metadata": {},
   "outputs": [],
   "source": [
    "company = Vnstock().stock(symbol='ACB', source='TCBS').company"
   ]
  },
  {
   "cell_type": "code",
   "execution_count": 1,
   "metadata": {},
   "outputs": [
    {
     "ename": "NameError",
     "evalue": "name 'company' is not defined",
     "output_type": "error",
     "traceback": [
      "\u001b[0;31m---------------------------------------------------------------------------\u001b[0m",
      "\u001b[0;31mNameError\u001b[0m                                 Traceback (most recent call last)",
      "Cell \u001b[0;32mIn[1], line 1\u001b[0m\n\u001b[0;32m----> 1\u001b[0m \u001b[43mcompany\u001b[49m\u001b[38;5;241m.\u001b[39mshareholders()\n",
      "\u001b[0;31mNameError\u001b[0m: name 'company' is not defined"
     ]
    }
   ],
   "source": [
    "company.shareholders()"
   ]
  },
  {
   "cell_type": "code",
   "execution_count": null,
   "metadata": {},
   "outputs": [],
   "source": []
  }
 ],
 "metadata": {
  "kernelspec": {
   "display_name": "pipeline",
   "language": "python",
   "name": "python3"
  },
  "language_info": {
   "codemirror_mode": {
    "name": "ipython",
    "version": 3
   },
   "file_extension": ".py",
   "mimetype": "text/x-python",
   "name": "python",
   "nbconvert_exporter": "python",
   "pygments_lexer": "ipython3",
   "version": "3.11.9"
  }
 },
 "nbformat": 4,
 "nbformat_minor": 2
}
